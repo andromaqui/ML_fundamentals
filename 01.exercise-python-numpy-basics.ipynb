{
 "cells": [
  {
   "cell_type": "markdown",
   "metadata": {
    "slideshow": {
     "slide_type": "-"
    }
   },
   "source": [
    "# ML-Fundamentals - Python Numpy Basics"
   ]
  },
  {
   "cell_type": "markdown",
   "metadata": {
    "slideshow": {
     "slide_type": "-"
    }
   },
   "source": [
    "## Table of Contents\n",
    "* [Introduction](#Introduction)\n",
    "* [Requirements](#Requirements) \n",
    "  * [Knowledge](#Knowledge) \n",
    "  * [Modules](#Python-Modules)\n",
    "* [Exercises](#Exercises)\n",
    "* [Summary and Outlook](#Summary-and-Outlook)\n",
    "* [Literature](#Literature) \n",
    "* [Licenses](#Licenses)"
   ]
  },
  {
   "cell_type": "markdown",
   "metadata": {
    "slideshow": {
     "slide_type": "-"
    }
   },
   "source": [
    "## Introduction\n",
    "\n",
    "In this exercise you will learn numpy operations / features, which you will need throughout nearly all data science tasks, when working with python."
   ]
  },
  {
   "cell_type": "markdown",
   "metadata": {
    "slideshow": {
     "slide_type": "-"
    }
   },
   "source": [
    "## Requirements\n",
    "### Knowledge\n",
    "\n",
    "You should have a basic knowledge of:\n",
    "- numpy\n",
    "\n",
    "Suitable sources for acquiring this knowledge are:\n",
    "- [numpy quickstart](https://docs.scipy.org/doc/numpy-1.15.1/user/quickstart.html)\n",
    "- [numpy slicing](https://docs.scipy.org/doc/numpy/reference/arrays.indexing.html)"
   ]
  },
  {
   "cell_type": "markdown",
   "metadata": {
    "slideshow": {
     "slide_type": "-"
    }
   },
   "source": [
    "### Python Modules\n",
    "\n",
    "By [deep.TEACHING](https://www.deep-teaching.org/) convention, all python modules needed to run the notebook are loaded centrally at the beginning. \n"
   ]
  },
  {
   "cell_type": "code",
   "execution_count": 1,
   "metadata": {
    "slideshow": {
     "slide_type": "-"
    }
   },
   "outputs": [],
   "source": [
    "# External Modules\n",
    "import numpy as np"
   ]
  },
  {
   "cell_type": "markdown",
   "metadata": {
    "slideshow": {
     "slide_type": "-"
    }
   },
   "source": [
    "## Exercises"
   ]
  },
  {
   "cell_type": "markdown",
   "metadata": {},
   "source": [
    "**Task:**\n",
    "\n",
    "Generate a numpy-1D array of length 10, all elements being 0, except the 5th element which is 1"
   ]
  },
  {
   "cell_type": "code",
   "execution_count": 2,
   "metadata": {},
   "outputs": [
    {
     "name": "stdout",
     "output_type": "stream",
     "text": [
      "[0 0 0 0 1 0 0 0 0 0]\n"
     ]
    }
   ],
   "source": [
    "### Your Solution\n",
    "a =  np.array( [0,0,0,0,1,0,0,0,0,0] )\n",
    "print(a)"
   ]
  },
  {
   "cell_type": "markdown",
   "metadata": {},
   "source": [
    "**Task:**\n",
    "\n",
    "Reverse the order of vector `z`: The first element becomes the last, the second becomes the second last etc."
   ]
  },
  {
   "cell_type": "code",
   "execution_count": 3,
   "metadata": {},
   "outputs": [
    {
     "name": "stdout",
     "output_type": "stream",
     "text": [
      "[49 48 47 46 45 44 43 42 41 40 39 38 37 36 35 34 33 32 31 30 29 28 27 26\n",
      " 25 24 23 22 21 20 19 18 17 16 15 14 13 12 11 10  9  8  7  6  5  4  3  2\n",
      "  1  0]\n"
     ]
    }
   ],
   "source": [
    "### Your Solution\n",
    "z = np.arange(50)\n",
    "z = np.flip(z)\n",
    "print(z)"
   ]
  },
  {
   "cell_type": "markdown",
   "metadata": {},
   "source": [
    "**Task:**\n",
    "\n",
    "Find the indices of all elements that are nonzero."
   ]
  },
  {
   "cell_type": "code",
   "execution_count": 4,
   "metadata": {},
   "outputs": [
    {
     "name": "stdout",
     "output_type": "stream",
     "text": [
      "(array([0, 1, 4], dtype=int64),)\n"
     ]
    }
   ],
   "source": [
    "### Your Solution\n",
    "z = np.array([1,2,0,0,4,0])\n",
    "index = np.where(z!=0)\n",
    "print(index)"
   ]
  },
  {
   "cell_type": "markdown",
   "metadata": {},
   "source": [
    "**Task:**\n",
    "\n",
    "Generate a 10x10 array with random values and find the smallest and largest value."
   ]
  },
  {
   "cell_type": "code",
   "execution_count": 5,
   "metadata": {},
   "outputs": [
    {
     "name": "stdout",
     "output_type": "stream",
     "text": [
      "[[0.85140747 0.53741814 0.0728169  0.32107722 0.17964191 0.22137819\n",
      "  0.67713278 0.14047986 0.40459845 0.90143029]\n",
      " [0.17597219 0.59975354 0.43661212 0.7259962  0.29346264 0.6655025\n",
      "  0.01280192 0.90829693 0.78525164 0.19122198]\n",
      " [0.15529718 0.35466458 0.28567088 0.73892411 0.07430292 0.60157992\n",
      "  0.44432214 0.99425156 0.66033508 0.09284525]\n",
      " [0.81144002 0.51845668 0.89828584 0.33817774 0.34746656 0.6137511\n",
      "  0.1600866  0.60580723 0.59071847 0.37769522]\n",
      " [0.53091331 0.37382619 0.87353583 0.73834102 0.1364179  0.95957498\n",
      "  0.10667144 0.042914   0.49308944 0.62791309]\n",
      " [0.5559199  0.8591116  0.78946052 0.08105139 0.98320758 0.09047154\n",
      "  0.34401437 0.03415854 0.32305966 0.92382578]\n",
      " [0.38549293 0.9472067  0.64463019 0.40820694 0.93099169 0.25007847\n",
      "  0.4231713  0.88879046 0.59545754 0.01357982]\n",
      " [0.90870743 0.28028742 0.75024592 0.65490476 0.10418263 0.43175533\n",
      "  0.24505226 0.27624997 0.51276869 0.94749573]\n",
      " [0.9038397  0.97084485 0.54261954 0.61823183 0.23183802 0.82585129\n",
      "  0.7969     0.44762116 0.01157304 0.19959307]\n",
      " [0.91097834 0.22280086 0.79092188 0.29600135 0.15116215 0.36740613\n",
      "  0.48476808 0.05695393 0.87476534 0.58579976]]\n",
      "0.011573040785514466\n",
      "0.9942515581785231\n"
     ]
    }
   ],
   "source": [
    "### Your Solution\n",
    "random = np.random.rand(10,10)\n",
    "minValue = np.amin(random)\n",
    "maxValue = np.amax(random)\n",
    "print(random)\n",
    "print(minValue)\n",
    "print(maxValue)"
   ]
  },
  {
   "cell_type": "markdown",
   "metadata": {},
   "source": [
    "**Task:**\n",
    "\n",
    "Generate a vector of length 50 with random values and calculate the mean."
   ]
  },
  {
   "cell_type": "code",
   "execution_count": 6,
   "metadata": {},
   "outputs": [
    {
     "name": "stdout",
     "output_type": "stream",
     "text": [
      "[0.37639739 0.60845198 0.51151675 0.54647386 0.99737386 0.49156215\n",
      " 0.58057313 0.3252552  0.2729964  0.02892256 0.55834774 0.66913035\n",
      " 0.86907298 0.96674522 0.20634494 0.10197054 0.32090791 0.46162022\n",
      " 0.66102925 0.02080032 0.10076092 0.41510323 0.78936214 0.97985784\n",
      " 0.7111065  0.46515631 0.24143432 0.85284387 0.46423406 0.83660865\n",
      " 0.93871497 0.7575536  0.14493813 0.16926961 0.5843654  0.18927229\n",
      " 0.51609221 0.24276065 0.5991309  0.56902911 0.77698581 0.8509872\n",
      " 0.24818931 0.09060386 0.41605389 0.12455301 0.64226941 0.11372489\n",
      " 0.07384477 0.23122283]\n",
      "0.4742304490431081\n"
     ]
    }
   ],
   "source": [
    "### Your Solution\n",
    "vector = np.random.rand(50)\n",
    "mean = np.mean(vector)\n",
    "print(vector)\n",
    "print(mean)"
   ]
  },
  {
   "cell_type": "markdown",
   "metadata": {},
   "source": [
    "**Task:**\n",
    "\n",
    "Explain the following results:"
   ]
  },
  {
   "cell_type": "markdown",
   "metadata": {},
   "source": [
    "##### print(0 * np.nan)\n",
    "print(np.nan == np.nan) //always wrong because they are two different objects\n",
    "print(np.inf > np.nan)  //cannot compare a number with an object\n",
    "print(np.nan - np.nan)  //not a number - not a number = also not a number\n",
    "print(0.3 == 3 * 0.1)   //https://www.sololearn.com/Discuss/1524665/why-is-0-1-3-not-equal-to-0-3-in-python"
   ]
  },
  {
   "cell_type": "markdown",
   "metadata": {},
   "source": [
    "**Task:**\n",
    "\n",
    "Generate an 8x8 matrix and fill it with a chess pattern like:\n",
    "\n",
    "`\n",
    "array([[1., 0., 1., 0., 1., 0., 1., 0.],\n",
    "       [0., 1., 0., 1., 0., 1., 0., 1.],\n",
    "       [1., 0., 1., 0., 1., 0., 1., 0.],\n",
    "       [0., 1., 0., 1., 0., 1., 0., 1.],\n",
    "       [1., 0., 1., 0., 1., 0., 1., 0.],\n",
    "       [0., 1., 0., 1., 0., 1., 0., 1.],\n",
    "       [1., 0., 1., 0., 1., 0., 1., 0.],\n",
    "       [0., 1., 0., 1., 0., 1., 0., 1.]])\n",
    "`"
   ]
  },
  {
   "cell_type": "code",
   "execution_count": 7,
   "metadata": {},
   "outputs": [
    {
     "name": "stdout",
     "output_type": "stream",
     "text": [
      "[[0 1 0 1 0 1 0 1 0 1]\n",
      " [1 0 1 0 1 0 1 0 1 0]\n",
      " [0 1 0 1 0 1 0 1 0 1]\n",
      " [1 0 1 0 1 0 1 0 1 0]\n",
      " [0 1 0 1 0 1 0 1 0 1]\n",
      " [1 0 1 0 1 0 1 0 1 0]\n",
      " [0 1 0 1 0 1 0 1 0 1]\n",
      " [1 0 1 0 1 0 1 0 1 0]\n",
      " [0 1 0 1 0 1 0 1 0 1]\n",
      " [1 0 1 0 1 0 1 0 1 0]]\n"
     ]
    }
   ],
   "source": [
    "### Your Solution\n",
    "x = np.zeros((10,10),dtype=int)\n",
    "x[1::2,::2] = 1\n",
    "x[::2,1::2] = 1\n",
    "print(x)\n"
   ]
  },
  {
   "cell_type": "markdown",
   "metadata": {},
   "source": [
    "**Task:**\n",
    "\n",
    "Generate a random 5x5 matrix and normalize (scale) it. That means, the smallest value should become 0.0, the largest 1.0"
   ]
  },
  {
   "cell_type": "code",
   "execution_count": 10,
   "metadata": {},
   "outputs": [
    {
     "name": "stdout",
     "output_type": "stream",
     "text": [
      "[3 9 4 0 8 5 4 4 2 7]\n",
      "[0.33333333 1.         0.44444444 0.         0.88888889 0.55555556\n",
      " 0.44444444 0.44444444 0.22222222 0.77777778]\n"
     ]
    }
   ],
   "source": [
    "### Your Solution\n",
    "r = np.random.randint(10, size=10)\n",
    "print(r)\n",
    "scaled = np.interp(r, (r.min(), r.max()), (0, +1))\n",
    "print(scaled)\n",
    "#(z-zmin)/(zmax-zmin)"
   ]
  },
  {
   "cell_type": "markdown",
   "metadata": {},
   "source": [
    "**Task:**\n",
    "\n",
    "From each row, subtract the maximum value of that row."
   ]
  },
  {
   "cell_type": "code",
   "execution_count": 11,
   "metadata": {},
   "outputs": [
    {
     "name": "stdout",
     "output_type": "stream",
     "text": [
      "[[ 0  1  2  3]\n",
      " [ 4  5  6  7]\n",
      " [ 8  9 10 11]]\n",
      "[ 3  7 11]\n",
      "[[-3 -2 -1  0]\n",
      " [-3 -2 -1  0]\n",
      " [-3 -2 -1  0]]\n"
     ]
    }
   ],
   "source": [
    "### Your Solution\n",
    "z = np.arange(12).reshape((3,4))\n",
    "print(z)\n",
    "res = z.max(axis=1)\n",
    "print(res)\n",
    "result = z-res[:, None]\n",
    "print(result) #https://howtothink.readthedocs.io/en/latest/PvL_06.html\n",
    "\n"
   ]
  },
  {
   "cell_type": "markdown",
   "metadata": {},
   "source": [
    "**Task:**\n",
    "    \n",
    "Divide each column by the sum of that column. Then verify that each column adds up to 1."
   ]
  },
  {
   "cell_type": "code",
   "execution_count": 12,
   "metadata": {
    "scrolled": true
   },
   "outputs": [
    {
     "name": "stdout",
     "output_type": "stream",
     "text": [
      "[[ 0  1  2  3]\n",
      " [ 4  5  6  7]\n",
      " [ 8  9 10 11]]\n",
      "[12 15 18 21]\n",
      "[[0.         0.06666667 0.11111111 0.14285714]\n",
      " [0.33333333 0.33333333 0.33333333 0.33333333]\n",
      " [0.66666667 0.6        0.55555556 0.52380952]]\n"
     ]
    }
   ],
   "source": [
    "### Your Solution\n",
    "z = np.arange(12).reshape((3,4))\n",
    "print(z)\n",
    "colmnSum = z.sum(axis=0)\n",
    "print(colmnSum)\n",
    "result = z/colmnSum\n",
    "print(result) #https://howtothink.readthedocs.io/en/latest/PvL_06.html"
   ]
  },
  {
   "cell_type": "markdown",
   "metadata": {},
   "source": [
    "**Task:**\n",
    "\n",
    "Negate all elements between 3 and 8 in place."
   ]
  },
  {
   "cell_type": "code",
   "execution_count": 13,
   "metadata": {},
   "outputs": [
    {
     "name": "stdout",
     "output_type": "stream",
     "text": [
      "[ 0  1  2 -3 -4 -5 -6 -7 -8  9 10]\n"
     ]
    }
   ],
   "source": [
    "### Your Solution\n",
    "Z = np.arange(11)\n",
    "m = (Z > 2) & (Z < 9) #mask\n",
    "Z[m] *= -1\n",
    "print(Z)\n"
   ]
  },
  {
   "cell_type": "markdown",
   "metadata": {},
   "source": [
    "**Task:**\n",
    "\n",
    "Explain the result (output) of the following code:"
   ]
  },
  {
   "cell_type": "code",
   "execution_count": 14,
   "metadata": {},
   "outputs": [
    {
     "name": "stdout",
     "output_type": "stream",
     "text": [
      "9\n",
      "10\n"
     ]
    }
   ],
   "source": [
    "### Your Solution\n",
    "print(sum(range(5),-1))\n",
    "from numpy import *\n",
    "print(sum(range(5), axis=-1)) # axis -1\n",
    "del sum #das objekt entfernen"
   ]
  },
  {
   "cell_type": "markdown",
   "metadata": {},
   "source": [
    "**Task:**\n",
    "\n",
    "Generate a random vector of length 100 and sort it."
   ]
  },
  {
   "cell_type": "code",
   "execution_count": 15,
   "metadata": {},
   "outputs": [
    {
     "name": "stdout",
     "output_type": "stream",
     "text": [
      "[897 149 502 908 919  16 168  24 892 326 272 210 373 649 276  45 565 350\n",
      " 427  54 565 274 791 257 914 171 190 786 893  53  69 802 487 234 853 417\n",
      " 695 564 658 517 796 984 537 395 369 920  12 189 275 209 529 164 910 672\n",
      " 705  35 576 160 397 908 259 894  16 845 822 291 630 381 634 183 477 411\n",
      " 208  50  99 551 506 494 327  37 356 571 737 181 425 800 465 324 394  23\n",
      " 782 899 353 484 549 328 358 836 560 434]\n",
      "[ 12  16  16  23  24  35  37  45  50  53  54  69  99 149 160 164 168 171\n",
      " 181 183 189 190 208 209 210 234 257 259 272 274 275 276 291 324 326 327\n",
      " 328 350 353 356 358 369 373 381 394 395 397 411 417 425 427 434 465 477\n",
      " 484 487 494 502 506 517 529 537 549 551 560 564 565 565 571 576 630 634\n",
      " 649 658 672 695 705 737 782 786 791 796 800 802 822 836 845 853 892 893\n",
      " 894 897 899 908 908 910 914 919 920 984]\n"
     ]
    }
   ],
   "source": [
    "### Your Solution\n",
    "r = np.random.randint(1000, size=100)\n",
    "print(r)\n",
    "sortedArray = np.sort(r)\n",
    "print(sortedArray)"
   ]
  },
  {
   "cell_type": "markdown",
   "metadata": {},
   "source": [
    "**Task:**\n",
    "\n",
    "Check if two arrays are equal:\n",
    "\n",
    "    1. All elements should be exactly the same\n",
    "    2. Equality within a tolerance"
   ]
  },
  {
   "cell_type": "code",
   "execution_count": 16,
   "metadata": {},
   "outputs": [
    {
     "name": "stdout",
     "output_type": "stream",
     "text": [
      "[[0.03246489 0.1296901  0.96214917 0.75666283]\n",
      " [0.31284016 0.24155659 0.79790662 0.21906625]\n",
      " [0.9920721  0.74574253 0.52113722 0.49980161]]\n",
      "[[0.03246489 0.1296901  0.96214917 0.75666283]\n",
      " [0.31284016 0.24155659 0.79790662 0.21906625]\n",
      " [0.9920721  0.74574253 0.52113722 0.49980161]]\n"
     ]
    },
    {
     "data": {
      "text/plain": [
       "True"
      ]
     },
     "execution_count": 16,
     "metadata": {},
     "output_type": "execute_result"
    }
   ],
   "source": [
    "### Your Solution\n",
    "A = np.random.random((3,4))\n",
    "B = A.copy()\n",
    "B[1,2] = A[1,2] * 1.00000000000001\n",
    "print (A)\n",
    "print(B)\n",
    "np.allclose(A, B)"
   ]
  },
  {
   "cell_type": "markdown",
   "metadata": {},
   "source": [
    "**Task:**\n",
    "\n",
    "Generate (as little code as possible) the following matrix with `np.array` and save it as the variable `arr`.\n",
    "\n",
    "\\begin{bmatrix}\n",
    "1 & 1 & 1 &1  &1 \\\\ \n",
    "1 & 2 & 1 & 1 & 1\\\\ \n",
    "1 & 1 & 3 & 1 & 1\\\\ \n",
    "1 &1  & 1 & 4 & 1\n",
    "\\end{bmatrix}\n",
    "\n",
    "And calculate:\n",
    "- the sum of each line\n",
    "- the sum of each row"
   ]
  },
  {
   "cell_type": "code",
   "execution_count": 17,
   "metadata": {},
   "outputs": [
    {
     "name": "stdout",
     "output_type": "stream",
     "text": [
      "[[1 1 1 1 1]\n",
      " [1 2 1 1 1]\n",
      " [1 1 3 1 1]\n",
      " [1 1 1 4 1]]\n"
     ]
    }
   ],
   "source": [
    "### Your Solution\n",
    "arr = np.ones((4,5), dtype=int)\n",
    "arr[1,1]=2\n",
    "arr[2,2]=3\n",
    "arr[3,3]=4\n",
    "print(arr)\n",
    "# diagonal function"
   ]
  },
  {
   "cell_type": "markdown",
   "metadata": {},
   "source": [
    "**Task:**\n",
    "\n",
    "Generate a 2x2 matrix from `arr`: It shall consist of the 4 values when taking the values of the 2nd and 4th column of arr and the even rows.\n",
    "\n",
    "Use different methods:\n",
    "(see http://docs.scipy.org/doc/numpy/reference/arrays.indexing.html)\n",
    "- integer array indexes\n",
    "- slices\n",
    "- boolean arrays\n"
   ]
  },
  {
   "cell_type": "code",
   "execution_count": 18,
   "metadata": {},
   "outputs": [
    {
     "name": "stdout",
     "output_type": "stream",
     "text": [
      "[[2 1]\n",
      " [1 4]]\n"
     ]
    }
   ],
   "source": [
    "### Your Solution\n",
    "\n",
    "sliced = arr[[1,3],:][:,[1,3]]\n",
    "\n",
    "print(sliced)\n"
   ]
  },
  {
   "cell_type": "markdown",
   "metadata": {},
   "source": [
    "**Task:**\n",
    "\n",
    "(see http://docs.scipy.org/doc/numpy-1.10.1/user/basics.broadcasting.html)\n",
    "\n",
    "Explain the following operations on `arr`"
   ]
  },
  {
   "cell_type": "code",
   "execution_count": 19,
   "metadata": {},
   "outputs": [
    {
     "name": "stdout",
     "output_type": "stream",
     "text": [
      "[[1 1 1 1 1]\n",
      " [1 2 1 1 1]\n",
      " [1 1 3 1 1]\n",
      " [1 1 1 4 1]]\n",
      "--------1-------\n",
      "[[ 5.  5.  5.  5.  5.]\n",
      " [ 5. 10.  5.  5.  5.]\n",
      " [ 5.  5. 15.  5.  5.]\n",
      " [ 5.  5.  5. 20.  5.]]\n",
      "--------2-------\n",
      "[0 1 2 3 4]\n",
      "[[ 0  1  2  3  4]\n",
      " [ 0  2  2  3  4]\n",
      " [ 0  1  6  3  4]\n",
      " [ 0  1  2 12  4]]\n",
      "--------3------\n",
      "[0 1 2 3]\n",
      "[[ 0  1  2  3]\n",
      " [ 0  2  2  3]\n",
      " [ 0  1  6  3]\n",
      " [ 0  1  2 12]\n",
      " [ 0  1  2  3]]\n",
      "--------4-------\n"
     ]
    },
    {
     "ename": "ValueError",
     "evalue": "operands could not be broadcast together with shapes (4,5) (4,) ",
     "output_type": "error",
     "traceback": [
      "\u001b[1;31m---------------------------------------------------------------------------\u001b[0m",
      "\u001b[1;31mValueError\u001b[0m                                Traceback (most recent call last)",
      "\u001b[1;32m<ipython-input-19-7898e2ff3aae>\u001b[0m in \u001b[0;36m<module>\u001b[1;34m\u001b[0m\n\u001b[0;32m     10\u001b[0m \u001b[0mprint\u001b[0m\u001b[1;33m(\u001b[0m\u001b[0marr\u001b[0m\u001b[1;33m.\u001b[0m\u001b[0mT\u001b[0m \u001b[1;33m*\u001b[0m \u001b[0mnp\u001b[0m\u001b[1;33m.\u001b[0m\u001b[0marange\u001b[0m\u001b[1;33m(\u001b[0m\u001b[0marr\u001b[0m\u001b[1;33m.\u001b[0m\u001b[0mshape\u001b[0m\u001b[1;33m[\u001b[0m\u001b[1;36m0\u001b[0m\u001b[1;33m]\u001b[0m\u001b[1;33m)\u001b[0m\u001b[1;33m)\u001b[0m\u001b[1;33m\u001b[0m\u001b[1;33m\u001b[0m\u001b[0m\n\u001b[0;32m     11\u001b[0m \u001b[0mprint\u001b[0m\u001b[1;33m(\u001b[0m\u001b[1;34m'--------4-------'\u001b[0m\u001b[1;33m)\u001b[0m\u001b[1;33m\u001b[0m\u001b[1;33m\u001b[0m\u001b[0m\n\u001b[1;32m---> 12\u001b[1;33m \u001b[0mprint\u001b[0m\u001b[1;33m(\u001b[0m\u001b[0marr\u001b[0m \u001b[1;33m*\u001b[0m \u001b[0mnp\u001b[0m\u001b[1;33m.\u001b[0m\u001b[0marange\u001b[0m\u001b[1;33m(\u001b[0m\u001b[0marr\u001b[0m\u001b[1;33m.\u001b[0m\u001b[0mshape\u001b[0m\u001b[1;33m[\u001b[0m\u001b[1;36m0\u001b[0m\u001b[1;33m]\u001b[0m\u001b[1;33m)\u001b[0m\u001b[1;33m)\u001b[0m\u001b[1;33m\u001b[0m\u001b[1;33m\u001b[0m\u001b[0m\n\u001b[0m",
      "\u001b[1;31mValueError\u001b[0m: operands could not be broadcast together with shapes (4,5) (4,) "
     ]
    }
   ],
   "source": [
    "### Your Solution\n",
    "print(arr)\n",
    "print('--------1-------')\n",
    "print(arr * 5.)\n",
    "print('--------2-------')\n",
    "print(np.arange(arr.shape[1]))\n",
    "print(arr * np.arange(arr.shape[1]))\n",
    "print('--------3------')\n",
    "print(np.arange(arr.shape[0]))\n",
    "print(arr.T * np.arange(arr.shape[0]))\n",
    "print('--------4-------')\n",
    "print(arr * np.arange(arr.shape[0]))"
   ]
  },
  {
   "cell_type": "markdown",
   "metadata": {},
   "source": [
    "**Task:**\n",
    "\n",
    "Calculate the matrix-vector product (dot product) of `arr` and $v$:\n",
    "\n",
    "with:\n",
    "\n",
    "$\n",
    "v = (1,2,3,4,5)^T\n",
    "$"
   ]
  },
  {
   "cell_type": "code",
   "execution_count": 20,
   "metadata": {},
   "outputs": [
    {
     "name": "stdout",
     "output_type": "stream",
     "text": [
      "[15 17 21 27]\n"
     ]
    }
   ],
   "source": [
    "### Your Solution\n",
    "u = np.arange(5)\n",
    "u = u + 1\n",
    "dotProduct = np.dot(arr,u.T)\n",
    "print(dotProduct)"
   ]
  },
  {
   "cell_type": "markdown",
   "metadata": {
    "slideshow": {
     "slide_type": "-"
    }
   },
   "source": [
    "## Summary and Outlook\n",
    "\n",
    "In this notebook you've picked up many of the essential numpy operations for maths and data science tasks.\n",
    "\n",
    "The more you use the library, the more of its functionality you'll discover and its usage will grow more intuitive and familiar."
   ]
  },
  {
   "cell_type": "markdown",
   "metadata": {
    "slideshow": {
     "slide_type": "-"
    }
   },
   "source": [
    "## Licenses\n",
    "\n",
    "### Notebook License (CC-BY-SA 4.0)\n",
    "\n",
    "*The following license applies to the complete notebook, including code cells. It does however not apply to any referenced external media (e.g., images).*\n",
    "\n",
    "Exercise: Python Numpy Basics <br/>\n",
    "by Klaus Strohmenger <br/>\n",
    "is licensed under a [Creative Commons Attribution-ShareAlike 4.0 International License](http://creativecommons.org/licenses/by-sa/4.0/).<br/>\n",
    "Based on a work at https://gitlab.com/deep.TEACHING.\n",
    "\n",
    "\n",
    "### Code License (MIT)\n",
    "\n",
    "*The following license only applies to code cells of the notebook.*\n",
    "\n",
    "Copyright 2019 Klaus Strohmenger\n",
    "\n",
    "Permission is hereby granted, free of charge, to any person obtaining a copy of this software and associated documentation files (the \"Software\"), to deal in the Software without restriction, including without limitation the rights to use, copy, modify, merge, publish, distribute, sublicense, and/or sell copies of the Software, and to permit persons to whom the Software is furnished to do so, subject to the following conditions:\n",
    "\n",
    "The above copyright notice and this permission notice shall be included in all copies or substantial portions of the Software.\n",
    "\n",
    "THE SOFTWARE IS PROVIDED \"AS IS\", WITHOUT WARRANTY OF ANY KIND, EXPRESS OR IMPLIED, INCLUDING BUT NOT LIMITED TO THE WARRANTIES OF MERCHANTABILITY, FITNESS FOR A PARTICULAR PURPOSE AND NONINFRINGEMENT. IN NO EVENT SHALL THE AUTHORS OR COPYRIGHT HOLDERS BE LIABLE FOR ANY CLAIM, DAMAGES OR OTHER LIABILITY, WHETHER IN AN ACTION OF CONTRACT, TORT OR OTHERWISE, ARISING FROM, OUT OF OR IN CONNECTION WITH THE SOFTWARE OR THE USE OR OTHER DEALINGS IN THE SOFTWARE."
   ]
  },
  {
   "cell_type": "code",
   "execution_count": null,
   "metadata": {},
   "outputs": [],
   "source": []
  },
  {
   "cell_type": "code",
   "execution_count": null,
   "metadata": {},
   "outputs": [],
   "source": []
  }
 ],
 "metadata": {
  "celltoolbar": "Slideshow",
  "kernelspec": {
   "display_name": "Python 3",
   "language": "python",
   "name": "python3"
  },
  "language_info": {
   "codemirror_mode": {
    "name": "ipython",
    "version": 3
   },
   "file_extension": ".py",
   "mimetype": "text/x-python",
   "name": "python",
   "nbconvert_exporter": "python",
   "pygments_lexer": "ipython3",
   "version": "3.7.4"
  }
 },
 "nbformat": 4,
 "nbformat_minor": 2
}
