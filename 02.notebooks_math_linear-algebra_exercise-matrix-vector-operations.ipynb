{
 "cells": [
  {
   "cell_type": "markdown",
   "metadata": {
    "slideshow": {
     "slide_type": "slide"
    }
   },
   "source": [
    "# Machine Learning Fundamentals - Linear Algebra - Exercise: Matrix and Vector Operations"
   ]
  },
  {
   "cell_type": "markdown",
   "metadata": {
    "slideshow": {
     "slide_type": "slide"
    }
   },
   "source": [
    "## Table of Contents\n",
    "* [Introduction](#Introduction)\n",
    "* [Requirements](#Requirements) \n",
    "  * [Knowledge](#Knowledge) \n",
    "  * [Modules](#Python-Modules)\n",
    "  * [Data](#Data)\n",
    "* [Exercise: Pen and Paper Calculation](#Pen-and-Paper-Calculation)\n",
    "* [Exercise: Implementation of Basic Operations](#Implmentation-of-Basic-Operations)\n",
    "  * [Vector Addition](#Vector-Addition)\n",
    "  * [Vector Subtraction](#Vector-Subtraction)\n",
    "  * [Scalar Multiplication](#Scalar-Multiplication)\n",
    "  * [Dot Product](#Dot-Product)\n",
    "  * [Matrix Multiplication](#Matrix-Multiplication)\n",
    "  * [Transpose](#Transpose)\n",
    "* [Summary and Outlook](#Summary-and-Outlook)\n",
    "* [Literature](#Literature) \n",
    "* [Licenses](#Licenses) "
   ]
  },
  {
   "cell_type": "markdown",
   "metadata": {
    "slideshow": {
     "slide_type": "slide"
    }
   },
   "source": [
    "## Introduction\n",
    "This exercise tests knowledge in basics in linear algebra. Knowledge about matrices, vectors, and their operations are essential in understanding more complex machine learning topics, like neural networks. Safe handling of domain-specific notation and concepts is therefore necessary.  "
   ]
  },
  {
   "cell_type": "markdown",
   "metadata": {
    "slideshow": {
     "slide_type": "slide"
    }
   },
   "source": [
    "## Requirements\n",
    "\n",
    "### Knowledge\n",
    "\n",
    "- Chapter 2 of [Deep Learning](http://www.deeplearningbook.org/contents/linear_algebra.html) by Ian Goodfellow gives a brief introduction into the field\n",
    "- [Linear Algebra](http://joshua.smcvt.edu/linearalgebra/#current_version) by Jim Hefferson is a open-source textbook with a lot of good exercises\n",
    "- [Introduction to Linear Algebra](http://math.mit.edu/~gs/linearalgebra/) by Gilbert Strang ist a good domain specific textbook\n",
    "- [Coding the Matrix: Linear Algebra through Applications to Computer Science](http://codingthematrix.com/) by Philip Klein is focused on a computer science viewpoint"
   ]
  },
  {
   "cell_type": "markdown",
   "metadata": {
    "slideshow": {
     "slide_type": "slide"
    }
   },
   "source": [
    "### Python Modules"
   ]
  },
  {
   "cell_type": "code",
   "execution_count": 20,
   "metadata": {
    "slideshow": {
     "slide_type": "slide"
    }
   },
   "outputs": [],
   "source": [
    "# External Modules\n",
    "import numpy as np"
   ]
  },
  {
   "cell_type": "markdown",
   "metadata": {
    "slideshow": {
     "slide_type": "slide"
    }
   },
   "source": [
    "### Data\n",
    "Given are the following matrices:\n",
    "\n",
    "\\begin{equation}\n",
    "    A =\n",
    "    \\begin{pmatrix}\n",
    "    4 & 4 & 5 \\\\\n",
    "    2 & 1 & 7 \\\\\n",
    "    4 & 8 & 3\n",
    "    \\end{pmatrix}\n",
    "    ,\n",
    "    B =\n",
    "    \\begin{pmatrix}\n",
    "    1 & 6 \\\\\n",
    "    3 & 1 \\\\\n",
    "    5 & 2\n",
    "    \\end{pmatrix}\n",
    "    ,\n",
    "    C =\n",
    "    \\begin{pmatrix}\n",
    "    1 & 4 & 4 \\\\\n",
    "    3 & 1 & 2\\\\\n",
    "    6 & 7 & 1\n",
    "    \\end{pmatrix}\n",
    "\\end{equation}\n",
    "\n",
    "\n",
    "and following vectors:\n",
    "\n",
    "\\begin{equation}\n",
    "    \\vec{x} =\n",
    "    \\begin{pmatrix}\n",
    "    9 \\\\\n",
    "    5 \\\\\n",
    "    7\n",
    "    \\end{pmatrix}\n",
    "    ,\n",
    "    \\vec{y} =\n",
    "    \\begin{pmatrix}\n",
    "    3 \\\\\n",
    "    1 \\\\\n",
    "    5\n",
    "    \\end{pmatrix}\n",
    "\\end{equation}"
   ]
  },
  {
   "cell_type": "code",
   "execution_count": 21,
   "metadata": {
    "slideshow": {
     "slide_type": "slide"
    }
   },
   "outputs": [],
   "source": [
    "# Matrices\n",
    "A = ([4,4,5],\n",
    "     [2,1,7],\n",
    "     [4,8,3])\n",
    "\n",
    "B = ([1,6],\n",
    "     [3,1],\n",
    "     [5,2])\n",
    "\n",
    "C = ([1,4,4],\n",
    "     [3,1,2],\n",
    "     [6,7,1])\n",
    "\n",
    "# Vectors\n",
    "x = (9,5,7)\n",
    "y = (3,1,5)\n",
    "\n"
   ]
  },
  {
   "cell_type": "markdown",
   "metadata": {
    "slideshow": {
     "slide_type": "slide"
    }
   },
   "source": [
    "## Pen and Paper Calculation\n",
    "Perform following calculations by hand or write some latex in that notebook.\n",
    "\n",
    "1.  $\\vec{x} \\cdot \\vec{y}$ (dot or inner product)\n",
    "2.  $\\vec{x} * \\vec{y}^T$ (matrix product)\n",
    "3.  $A * B$ \n",
    "4.  $B * A$\n",
    "5.  $A * C$\n",
    "6.  $C * A$\n",
    "7.  $(C^T * A^T)^T$\n",
    "8.  $A \\circ C$ (Hadamard or Schur product)\n",
    "9.  $ \\left  \\langle A,C \\right \\rangle_F $ (Frobenius inner product)"
   ]
  },
  {
   "cell_type": "markdown",
   "metadata": {
    "slideshow": {
     "slide_type": "slide"
    }
   },
   "source": [
    "## Implementation of Basic Operations\n",
    "Implement the following functions using the data structure `List` only. The results should be the same as the corresponding Numpy implementation."
   ]
  },
  {
   "cell_type": "markdown",
   "metadata": {
    "slideshow": {
     "slide_type": "slide"
    }
   },
   "source": [
    "### Vector Addition"
   ]
  },
  {
   "cell_type": "code",
   "execution_count": 22,
   "metadata": {
    "slideshow": {
     "slide_type": "slide"
    }
   },
   "outputs": [
    {
     "name": "stdout",
     "output_type": "stream",
     "text": [
      "[12, 6, 12]\n"
     ]
    }
   ],
   "source": [
    "def vector_add(a: list, b: list): \n",
    "    \n",
    "    z=list(a)\n",
    "     \n",
    "    for i in range(len(a)):\n",
    "        temp= a[i]+b[i]\n",
    "        z[i]=temp\n",
    "        \n",
    "         \n",
    "    print(z)\n",
    "    return z     \n",
    "    raise NotImplementedError\n",
    "\n",
    "\n",
    "# Test\n",
    "np.testing.assert_array_almost_equal(vector_add(x,y), np.add(x,y), verbose=True)"
   ]
  },
  {
   "cell_type": "markdown",
   "metadata": {
    "slideshow": {
     "slide_type": "slide"
    }
   },
   "source": [
    "### Vector Subtraction"
   ]
  },
  {
   "cell_type": "code",
   "execution_count": 23,
   "metadata": {
    "slideshow": {
     "slide_type": "slide"
    }
   },
   "outputs": [
    {
     "name": "stdout",
     "output_type": "stream",
     "text": [
      "[6, 4, 2]\n"
     ]
    }
   ],
   "source": [
    "def vector_sub(a: list, b: list): \n",
    "    \n",
    "    z=list(a)\n",
    "     \n",
    "    for i in range(len(a)):\n",
    "        temp= a[i]-b[i]\n",
    "        z[i]=temp\n",
    "          \n",
    "    print(z)\n",
    "    return z  \n",
    "\n",
    "\n",
    "\n",
    "# Testing\n",
    "np.testing.assert_array_almost_equal(vector_sub(x,y), np.subtract(x,y), verbose=True)"
   ]
  },
  {
   "cell_type": "markdown",
   "metadata": {
    "slideshow": {
     "slide_type": "slide"
    }
   },
   "source": [
    "### Scalar Multiplication"
   ]
  },
  {
   "cell_type": "code",
   "execution_count": 24,
   "metadata": {
    "slideshow": {
     "slide_type": "slide"
    }
   },
   "outputs": [
    {
     "name": "stdout",
     "output_type": "stream",
     "text": [
      "[[12 12 15]\n",
      " [ 6  3 21]\n",
      " [12 24  9]]\n"
     ]
    }
   ],
   "source": [
    "def scalar_mul(r, A):\n",
    "    z=np.copy(A)\n",
    "   \n",
    "    for i in range( len(A)):\n",
    "        for j in range( len(A[i])): \n",
    "            z[i-1][j-1] *=r\n",
    "        \n",
    "    return z \n",
    "# Testing\n",
    "sca = 3\n",
    "np.testing.assert_array_almost_equal(scalar_mul(sca,A), np.multiply(sca,A), verbose=True)\n",
    "print(np.multiply(sca,A))"
   ]
  },
  {
   "cell_type": "markdown",
   "metadata": {
    "slideshow": {
     "slide_type": "slide"
    }
   },
   "source": [
    "### Dot Product"
   ]
  },
  {
   "cell_type": "code",
   "execution_count": 25,
   "metadata": {
    "slideshow": {
     "slide_type": "slide"
    }
   },
   "outputs": [
    {
     "name": "stdout",
     "output_type": "stream",
     "text": [
      "67\n"
     ]
    }
   ],
   "source": [
    "def vec_dot(a, b):\n",
    "    z=0\n",
    "    for i in range(len(a)):\n",
    "        temp= a[i-1]*b[i-1]\n",
    "        z+=temp\n",
    "        \n",
    "        \n",
    "         \n",
    "    print(z)\n",
    "    return z     \n",
    "    raise NotImplementedError\n",
    "\n",
    "# Testing\n",
    "np.testing.assert_array_almost_equal(vec_dot(x,y), np.dot(x,y), verbose=True)"
   ]
  },
  {
   "cell_type": "markdown",
   "metadata": {
    "slideshow": {
     "slide_type": "slide"
    }
   },
   "source": [
    "### Matrix Multiplication"
   ]
  },
  {
   "cell_type": "code",
   "execution_count": 26,
   "metadata": {
    "slideshow": {
     "slide_type": "slide"
    }
   },
   "outputs": [
    {
     "name": "stdout",
     "output_type": "stream",
     "text": [
      "[[0, 0], [0, 0], [0, 0]]\n"
     ]
    }
   ],
   "source": [
    "def matrix_mult(A, B):\n",
    "    z=[[0 for x in range(len(B[0]))] for y in range(len(A))] \n",
    "    print(z)\n",
    "    for i in range( len(A)):\n",
    "        for j in range( len(B[i])) : \n",
    "            for k in range( len(B)) : \n",
    "                z[i][j] += A[i][k] * B[k][j]\n",
    "    return z \n",
    "# Testing\n",
    "np.testing.assert_array_almost_equal(matrix_mult(A,B), np.matmul(A,B), verbose=True)"
   ]
  },
  {
   "cell_type": "markdown",
   "metadata": {
    "slideshow": {
     "slide_type": "slide"
    }
   },
   "source": [
    "### Transpose"
   ]
  },
  {
   "cell_type": "code",
   "execution_count": 27,
   "metadata": {
    "slideshow": {
     "slide_type": "slide"
    }
   },
   "outputs": [],
   "source": [
    "def matrix_transpose(A):\n",
    "    c=A\n",
    "    \n",
    "    for i in range( len(A)):\n",
    "        for j in range( len(A[i])) : \n",
    "             c[j-1][i-1] =A[i-1][j-1]\n",
    "    return c\n",
    "# Testing\n",
    "np.testing.assert_array_almost_equal(matrix_transpose(A), np.transpose(A), verbose=True)"
   ]
  },
  {
   "cell_type": "markdown",
   "metadata": {
    "slideshow": {
     "slide_type": "slide"
    }
   },
   "source": [
    "## Summary and Outlook\n",
    "\n",
    "This exercise covered basic operations on vectors and matrices. If the exercise was too complicated, consider the sources mentioned above for a recap. "
   ]
  },
  {
   "cell_type": "markdown",
   "metadata": {},
   "source": [
    "## Literature\n",
    "\n",
    "<table>\n",
    "    <tr>\n",
    "        <td>\n",
    "            <a name=\"HEF17\"></a>[HEF17]\n",
    "        </td>\n",
    "        <td>\n",
    "            Jim Hefferon, \"Linear Algebra\",Saint Michael's College, USA, 2017\n",
    "        </td>\n",
    "    </tr>\n",
    "    <tr>\n",
    "        <td>\n",
    "            <a name=\"GOO16\"></a>[GOO16]\n",
    "        </td>\n",
    "        <td>\n",
    "            Ian Goodfellow, Yoshua Bengio and Aaron Courville, \"Deep Learning\", MIT Press, 2016\n",
    "        </td>\n",
    "    </tr>\n",
    "    <tr>\n",
    "        <td>\n",
    "            <a name=\"STR16\"></a>[STR16]\n",
    "        </td>\n",
    "        <td>\n",
    "           Gilbert Strang, \"Introduction to Linear Algebra\", Wellesley-Cambridge Press, 2016\n",
    "        </td>\n",
    "    </tr>\n",
    "    <tr>\n",
    "        <td>\n",
    "            <a name=\"KLE13\"></a>[KLE13]\n",
    "        </td>\n",
    "        <td>\n",
    "           Gilbert Strang, \"Coding the Matrix\", Newtonian Press, 2013\n",
    "        </td>\n",
    "    </tr>\n",
    "     "
   ]
  },
  {
   "cell_type": "markdown",
   "metadata": {
    "slideshow": {
     "slide_type": "slide"
    }
   },
   "source": [
    "## Licenses\n",
    "\n",
    "### Notebook License (CC-BY-SA 4.0)\n",
    "\n",
    "*The following license applies to the complete notebook, including code cells. It does however not apply to any referenced external media (e.g., images).*\n",
    "\n",
    "Exercise: Matrix and Vector Operations <br/>\n",
    "by Benjamin Voigt <br/>\n",
    "is licensed under a [Creative Commons Attribution-ShareAlike 4.0 International License](http://creativecommons.org/licenses/by-sa/4.0/).<br/>\n",
    "Based on a work at https://gitlab.com/deep.TEACHING.\n",
    "\n",
    "\n",
    "### Code License (MIT)\n",
    "\n",
    "*The following license only applies to code cells of the notebook.*\n",
    "\n",
    "Copyright 2018 Benjamin Voigt\n",
    "\n",
    "Permission is hereby granted, free of charge, to any person obtaining a copy of this software and associated documentation files (the \"Software\"), to deal in the Software without restriction, including without limitation the rights to use, copy, modify, merge, publish, distribute, sublicense, and/or sell copies of the Software, and to permit persons to whom the Software is furnished to do so, subject to the following conditions:\n",
    "\n",
    "The above copyright notice and this permission notice shall be included in all copies or substantial portions of the Software.\n",
    "\n",
    "THE SOFTWARE IS PROVIDED \"AS IS\", WITHOUT WARRANTY OF ANY KIND, EXPRESS OR IMPLIED, INCLUDING BUT NOT LIMITED TO THE WARRANTIES OF MERCHANTABILITY, FITNESS FOR A PARTICULAR PURPOSE AND NONINFRINGEMENT. IN NO EVENT SHALL THE AUTHORS OR COPYRIGHT HOLDERS BE LIABLE FOR ANY CLAIM, DAMAGES OR OTHER LIABILITY, WHETHER IN AN ACTION OF CONTRACT, TORT OR OTHERWISE, ARISING FROM, OUT OF OR IN CONNECTION WITH THE SOFTWARE OR THE USE OR OTHER DEALINGS IN THE SOFTWARE."
   ]
  }
 ],
 "metadata": {
  "celltoolbar": "Slideshow",
  "kernelspec": {
   "display_name": "Python 3",
   "language": "python",
   "name": "python3"
  },
  "language_info": {
   "codemirror_mode": {
    "name": "ipython",
    "version": 3
   },
   "file_extension": ".py",
   "mimetype": "text/x-python",
   "name": "python",
   "nbconvert_exporter": "python",
   "pygments_lexer": "ipython3",
   "version": "3.7.4"
  }
 },
 "nbformat": 4,
 "nbformat_minor": 2
}
